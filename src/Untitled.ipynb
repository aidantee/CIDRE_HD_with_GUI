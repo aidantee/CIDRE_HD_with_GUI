{
 "cells": [
  {
   "cell_type": "code",
   "execution_count": 1,
   "id": "a92f0961",
   "metadata": {},
   "outputs": [],
   "source": [
    "from corpus.cdr_corpus import CDRCorpus\n",
    "from dataset.cdr_dataset import CDRDataset\n",
    "from config.cdr_config import CDRConfig\n",
    "from dataset.utils import get_cdr_dataset\n",
    "from dataset.collator import Collator\n",
    "from torch.utils.data import DataLoader"
   ]
  },
  {
   "cell_type": "code",
   "execution_count": 2,
   "id": "d8336b2f",
   "metadata": {},
   "outputs": [],
   "source": [
    "config_file_path = \"data/config.json\"\n",
    "config = CDRConfig.from_json_file(config_file_path)\n",
    "corpus = CDRCorpus(config)\n",
    "corpus.load_all_vocabs(config.saved_folder_path)"
   ]
  },
  {
   "cell_type": "code",
   "execution_count": 3,
   "id": "e43bb1a0",
   "metadata": {},
   "outputs": [],
   "source": [
    "train_dataset = get_cdr_dataset(corpus, config.saved_folder_path, \"train\")\n",
    "dev_dataset = get_cdr_dataset(corpus, config.saved_folder_path, \"dev\")\n",
    "test_dataset = get_cdr_dataset(corpus, config.saved_folder_path, \"test\")"
   ]
  },
  {
   "cell_type": "code",
   "execution_count": 4,
   "id": "32b7c3ce",
   "metadata": {},
   "outputs": [],
   "source": [
    "collator = Collator(corpus.word_vocab, corpus.pos_vocab, corpus.char_vocab, corpus.rel_vocab)"
   ]
  },
  {
   "cell_type": "code",
   "execution_count": 5,
   "id": "5b28ef70",
   "metadata": {},
   "outputs": [],
   "source": [
    "train_dataloader = DataLoader(train_dataset, batch_size=2, shuffle=True, collate_fn=collator.collate)"
   ]
  },
  {
   "cell_type": "code",
   "execution_count": 6,
   "id": "6e2caae7",
   "metadata": {},
   "outputs": [
    {
     "name": "stdout",
     "output_type": "stream",
     "text": [
      "torch.Size([2, 242])\n",
      "torch.Size([2, 242])\n",
      "torch.Size([2, 242])\n",
      "torch.Size([2, 242, 96])\n",
      "torch.Size([2, 242, 5])\n",
      "torch.Size([2, 242, 5])\n",
      "torch.Size([2, 242, 30])\n",
      "torch.Size([2, 242, 30])\n",
      "torch.Size([2, 242, 5])\n",
      "torch.Size([2, 242, 5])\n",
      "torch.Size([2, 242, 30])\n",
      "torch.Size([2, 242, 30])\n",
      "torch.Size([2, 30, 20])\n",
      "torch.Size([2, 30, 20])\n",
      "torch.Size([2, 30, 20])\n",
      "torch.Size([2, 30, 20])\n",
      "torch.Size([2, 30, 30])\n",
      "torch.Size([2, 242, 50])\n",
      "torch.Size([2, 242])\n",
      "torch.Size([2])\n"
     ]
    }
   ],
   "source": [
    "for batch in train_dataloader:\n",
    "    (\n",
    "        token_ids_tensor,\n",
    "        token_ids_mask_tensor,\n",
    "        pos_ids_tensor,\n",
    "        char_ids_tensor,\n",
    "        in_nodes_idx_tensor,\n",
    "        in_nodes_mask_tensor,\n",
    "        out_nodes_idx_tensor,\n",
    "        out_nodes_mask_tensor,\n",
    "        in_edge_idx_tensor,\n",
    "        in_edge_idx_mask,\n",
    "        out_edge_idx_tensor,\n",
    "        out_edge_idx_mask,\n",
    "        chem_entity_map_tensor,\n",
    "        chem_entity_map_mask_tensor,\n",
    "        dis_entity_map_tensor,\n",
    "        dis_entity_map_mask_tensor,\n",
    "        start_distant,\n",
    "        elmo_input_tensor,\n",
    "        ner_label_ids_tensor,\n",
    "        label_ids_tensor,\n",
    "    ) = batch\n",
    "    for i in range(len(batch)):\n",
    "        print(batch[i].shape)\n",
    "    break"
   ]
  },
  {
   "cell_type": "code",
   "execution_count": 32,
   "id": "9a0d7c23",
   "metadata": {},
   "outputs": [],
   "source": [
    "inputs = train_dataset[223]"
   ]
  },
  {
   "cell_type": "code",
   "execution_count": 35,
   "id": "47145fd6",
   "metadata": {},
   "outputs": [
    {
     "data": {
      "text/plain": [
       "[[40, 41]]"
      ]
     },
     "execution_count": 35,
     "metadata": {},
     "output_type": "execute_result"
    }
   ],
   "source": [
    "inputs[-4]"
   ]
  }
 ],
 "metadata": {
  "kernelspec": {
   "display_name": "Python 3 (ipykernel)",
   "language": "python",
   "name": "python3"
  },
  "language_info": {
   "codemirror_mode": {
    "name": "ipython",
    "version": 3
   },
   "file_extension": ".py",
   "mimetype": "text/x-python",
   "name": "python",
   "nbconvert_exporter": "python",
   "pygments_lexer": "ipython3",
   "version": "3.8.10"
  }
 },
 "nbformat": 4,
 "nbformat_minor": 5
}
