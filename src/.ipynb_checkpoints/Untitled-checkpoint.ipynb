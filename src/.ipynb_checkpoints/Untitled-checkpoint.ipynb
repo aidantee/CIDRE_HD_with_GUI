{
 "cells": [
  {
   "cell_type": "code",
   "execution_count": 1,
   "id": "222278a8",
   "metadata": {},
   "outputs": [],
   "source": [
    "from config.cdr_config import CDRConfig"
   ]
  },
  {
   "cell_type": "code",
   "execution_count": 2,
   "id": "db9151ed",
   "metadata": {},
   "outputs": [],
   "source": [
    "config_path = \"./config.json\"\n",
    "config = CDRConfig.from_json(config_path)"
   ]
  },
  {
   "cell_type": "code",
   "execution_count": 3,
   "id": "13ff3a5f",
   "metadata": {},
   "outputs": [
    {
     "data": {
      "text/plain": [
       "{\n",
       "    \"data\": {\n",
       "        \"dev_file_path\": \"../data/rawdata/CDR_DevelopmentSet.PubTator.txt\",\n",
       "        \"mesh_filtering\": true,\n",
       "        \"mesh_path\": \"../data/2017MeshTree.txt\",\n",
       "        \"saved_data_path\": \"./data/prepared_data/\",\n",
       "        \"test_file_path\": \"../data/rawdata/CDR_TestSet.PubTator.txt\",\n",
       "        \"train_file_path\": \"../data/rawdata/CDR_TrainingSet.PubTator.txt\",\n",
       "        \"use_title\": true\n",
       "    },\n",
       "    \"experiment\": \"test\",\n",
       "    \"experiment_dir\": \"checkpoints\",\n",
       "    \"model\": {\n",
       "        \"distance_embedding_dim\": 50,\n",
       "        \"distance_thresh\": 0,\n",
       "        \"drop_out\": 0.2,\n",
       "        \"encoder\": {\n",
       "            \"char_embedding_dim\": 30,\n",
       "            \"combined_hidden_dim\": 200,\n",
       "            \"contextual_word_embedding_dim\": 1024,\n",
       "            \"distance_embedding_dim\": 50,\n",
       "            \"drop_out\": 0.2,\n",
       "            \"edge_embedding_dim\": 10,\n",
       "            \"hidden_dim\": 150,\n",
       "            \"in_attn_heads\": 2,\n",
       "            \"kernel_size\": 5,\n",
       "            \"lstm_hidden_dim\": 150,\n",
       "            \"max_distance_mention_token\": 100,\n",
       "            \"n_filters\": 30,\n",
       "            \"out_attn_heads\": 5,\n",
       "            \"pos_embedding_dim\": 10,\n",
       "            \"time_step\": 6,\n",
       "            \"use_attn\": true,\n",
       "            \"use_char\": true,\n",
       "            \"use_distance\": false,\n",
       "            \"use_pos\": true,\n",
       "            \"use_state\": true,\n",
       "            \"use_word\": false,\n",
       "            \"word_embedding_dim\": 200\n",
       "        },\n",
       "        \"entity_hidden_dim\": 100,\n",
       "        \"max_distance_mention_mention\": 600,\n",
       "        \"ner_classes\": 5,\n",
       "        \"relation_classes\": 2,\n",
       "        \"use_distance\": false,\n",
       "        \"use_ner\": true,\n",
       "        \"use_state\": true\n",
       "    },\n",
       "    \"train\": {\n",
       "        \"batch_max_tokens\": null,\n",
       "        \"batch_size\": 8,\n",
       "        \"eval_interval\": 10000,\n",
       "        \"gradient_clipping\": 5,\n",
       "        \"log_interval\": 50,\n",
       "        \"loss\": {\n",
       "            \"arguments\": {\n",
       "                \"pos_weight\": 1\n",
       "            },\n",
       "            \"name\": \"bce\"\n",
       "        },\n",
       "        \"lr_scheduler\": {\n",
       "            \"arguments\": {\n",
       "                \"warmup_steps\": 10000\n",
       "            },\n",
       "            \"name\": \"cosine_with_warmup\"\n",
       "        },\n",
       "        \"num_epochs\": 3,\n",
       "        \"optimizer\": {\n",
       "            \"lr\": 0.0007,\n",
       "            \"name\": \"adamw\",\n",
       "            \"weight_decay\": 0.01\n",
       "        }\n",
       "    }\n",
       "}"
      ]
     },
     "execution_count": 3,
     "metadata": {},
     "output_type": "execute_result"
    }
   ],
   "source": [
    "config"
   ]
  }
 ],
 "metadata": {
  "kernelspec": {
   "display_name": "Python 3 (ipykernel)",
   "language": "python",
   "name": "python3"
  },
  "language_info": {
   "codemirror_mode": {
    "name": "ipython",
    "version": 3
   },
   "file_extension": ".py",
   "mimetype": "text/x-python",
   "name": "python",
   "nbconvert_exporter": "python",
   "pygments_lexer": "ipython3",
   "version": "3.8.13"
  }
 },
 "nbformat": 4,
 "nbformat_minor": 5
}
